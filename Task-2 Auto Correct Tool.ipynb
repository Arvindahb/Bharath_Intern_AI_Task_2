{
 "cells": [
  {
   "cell_type": "code",
   "execution_count": 1,
   "id": "132077c8",
   "metadata": {},
   "outputs": [
    {
     "name": "stdout",
     "output_type": "stream",
     "text": [
      "Requirement already satisfied: spello in c:\\users\\arvinda h b\\anaconda3\\lib\\site-packages (1.3.0)\n",
      "Requirement already satisfied: nltk<4,>=3.4.5 in c:\\users\\arvinda h b\\anaconda3\\lib\\site-packages (from spello) (3.7)\n",
      "Requirement already satisfied: regex>=2021.8.3 in c:\\users\\arvinda h b\\anaconda3\\lib\\site-packages (from nltk<4,>=3.4.5->spello) (2022.7.9)\n",
      "Requirement already satisfied: joblib in c:\\users\\arvinda h b\\anaconda3\\lib\\site-packages (from nltk<4,>=3.4.5->spello) (1.3.1)\n",
      "Requirement already satisfied: click in c:\\users\\arvinda h b\\anaconda3\\lib\\site-packages (from nltk<4,>=3.4.5->spello) (8.0.4)\n",
      "Requirement already satisfied: tqdm in c:\\users\\arvinda h b\\anaconda3\\lib\\site-packages (from nltk<4,>=3.4.5->spello) (4.64.1)\n",
      "Requirement already satisfied: colorama in c:\\users\\arvinda h b\\anaconda3\\lib\\site-packages (from click->nltk<4,>=3.4.5->spello) (0.4.6)\n",
      "Note: you may need to restart the kernel to use updated packages.\n"
     ]
    }
   ],
   "source": [
    "pip install spello"
   ]
  },
  {
   "cell_type": "code",
   "execution_count": 2,
   "id": "cccdce8f",
   "metadata": {},
   "outputs": [],
   "source": [
    "from spello.model import SpellCorrectionModel"
   ]
  },
  {
   "cell_type": "code",
   "execution_count": 3,
   "id": "6d825a4a",
   "metadata": {},
   "outputs": [],
   "source": [
    "model = SpellCorrectionModel(language=\"en\")"
   ]
  },
  {
   "cell_type": "code",
   "execution_count": 4,
   "id": "b1abe5b1",
   "metadata": {},
   "outputs": [],
   "source": [
    "with open (\"words.txt\") as file:\n",
    "    data = file.readlines()\n",
    "\n",
    "data = [i.strip() for i in data]"
   ]
  },
  {
   "cell_type": "code",
   "execution_count": 5,
   "id": "b527a56d",
   "metadata": {},
   "outputs": [
    {
     "name": "stdout",
     "output_type": "stream",
     "text": [
      "Spello training started..\n",
      "Context model training started ...\n",
      "Symspell training started ...\n",
      "Phoneme training started ...\n",
      "Spello training completed successfully ...\n"
     ]
    }
   ],
   "source": [
    "model.train(data)"
   ]
  },
  {
   "cell_type": "code",
   "execution_count": 16,
   "id": "86664216",
   "metadata": {},
   "outputs": [
    {
     "data": {
      "text/plain": [
       "'.\\\\model.pkl'"
      ]
     },
     "execution_count": 16,
     "metadata": {},
     "output_type": "execute_result"
    }
   ],
   "source": [
    "model.save(\"\")"
   ]
  },
  {
   "cell_type": "code",
   "execution_count": 17,
   "id": "825f139c",
   "metadata": {},
   "outputs": [
    {
     "data": {
      "text/plain": [
       "<spello.model.SpellCorrectionModel at 0x25c750cfd00>"
      ]
     },
     "execution_count": 17,
     "metadata": {},
     "output_type": "execute_result"
    }
   ],
   "source": [
    "model.load(\"model.pkl\")"
   ]
  },
  {
   "cell_type": "code",
   "execution_count": 18,
   "id": "2555e2ab",
   "metadata": {},
   "outputs": [
    {
     "name": "stdout",
     "output_type": "stream",
     "text": [
      "Enter the sentence/word : engineeing\n"
     ]
    }
   ],
   "source": [
    "lines = input(\"Enter the sentence/word : \")"
   ]
  },
  {
   "cell_type": "code",
   "execution_count": 19,
   "id": "7e0acedb",
   "metadata": {},
   "outputs": [],
   "source": [
    "words = lines.split()"
   ]
  },
  {
   "cell_type": "code",
   "execution_count": 20,
   "id": "4058d983",
   "metadata": {},
   "outputs": [],
   "source": [
    "correct_words = []\n",
    "for word in words:\n",
    "    corrected = model.spell_correct(word)\n",
    "    correct_words.append(corrected['spell_corrected_text'])\n",
    "    \n",
    "corrected_sentence = \" \".join(correct_words)"
   ]
  },
  {
   "cell_type": "code",
   "execution_count": 21,
   "id": "6b81d0b7",
   "metadata": {},
   "outputs": [
    {
     "name": "stdout",
     "output_type": "stream",
     "text": [
      "Corrected Sentence :  engineering\n"
     ]
    }
   ],
   "source": [
    "print(\"Corrected Sentence : \",corrected_sentence)"
   ]
  },
  {
   "cell_type": "code",
   "execution_count": null,
   "id": "242f1976",
   "metadata": {},
   "outputs": [],
   "source": []
  }
 ],
 "metadata": {
  "kernelspec": {
   "display_name": "Python 3 (ipykernel)",
   "language": "python",
   "name": "python3"
  },
  "language_info": {
   "codemirror_mode": {
    "name": "ipython",
    "version": 3
   },
   "file_extension": ".py",
   "mimetype": "text/x-python",
   "name": "python",
   "nbconvert_exporter": "python",
   "pygments_lexer": "ipython3",
   "version": "3.10.9"
  }
 },
 "nbformat": 4,
 "nbformat_minor": 5
}
